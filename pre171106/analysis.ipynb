{
 "cells": [
  {
   "cell_type": "code",
   "execution_count": 28,
   "metadata": {
    "collapsed": true
   },
   "outputs": [],
   "source": [
    "import json\n",
    "import pickle\n",
    "import re\n",
    "import requests\n",
    "import jieba\n",
    "import nltk\n",
    "import csv\n",
    "import matplotlib.pyplot as plt\n",
    "from wordcloud import WordCloud"
   ]
  },
  {
   "cell_type": "code",
   "execution_count": 2,
   "metadata": {},
   "outputs": [],
   "source": [
    "def segmentSent(paragraph):\n",
    "    sents = paragraph.split('\\n')\n",
    "    res = []\n",
    "    for sent in sents:\n",
    "        res.extend(re.findall(r\"[^；。！？]+[；。！？]\", sent))\n",
    "    return [sent for sent in res if sent]\n",
    "def loadWords(filename):\n",
    "    words = set()\n",
    "    with open(filename, 'r', encoding='utf-8') as inputFile:\n",
    "        for line in inputFile:\n",
    "            words.add(line.strip())\n",
    "    return words\n",
    "def getMention(tokenList, maxlen=5, minlen=2):\n",
    "    mentionList = []\n",
    "    length = len(tokenList)\n",
    "    for begin in range(length):\n",
    "        for end in range(begin + maxlen, begin + minlen - 1, -1):\n",
    "            if end <= length:\n",
    "                cand = ''.join(tokenList[begin:end])\n",
    "                params = {'p': cand}\n",
    "                try:\n",
    "                    ret = requests.get('http://knowledgeworks.cn:30001/', params)\n",
    "                    if ret.json() != ['Unknown Mention']:\n",
    "                        print(cand)\n",
    "                        mentionList.append(cand)\n",
    "                        break\n",
    "                except:\n",
    "                    pass\n",
    "    return mentionList"
   ]
  },
  {
   "cell_type": "code",
   "execution_count": 3,
   "metadata": {},
   "outputs": [],
   "source": [
    "with open('data/cpc_reports.json', 'r', encoding='utf-8') as inputFile:\n",
    "    jsonObj = json.load(inputFile)\n",
    "with open('data/mentionLists.pkl', 'rb') as inputFile:\n",
    "    mentionLists = pickle.load(inputFile)"
   ]
  },
  {
   "cell_type": "code",
   "execution_count": 5,
   "metadata": {
    "collapsed": true
   },
   "outputs": [
    {
     "name": "stdout",
     "output_type": "stream",
     "text": [
      "同志们\n"
     ]
    },
    {
     "name": "stdout",
     "output_type": "stream",
     "text": [
      "社会主义现代化建设\n"
     ]
    },
    {
     "name": "stdout",
     "output_type": "stream",
     "text": [
      "世界各国\n"
     ]
    },
    {
     "name": "stdout",
     "output_type": "stream",
     "text": [
      "这样的\n"
     ]
    },
    {
     "name": "stdout",
     "output_type": "stream",
     "text": [
      "东西方关系\n"
     ]
    },
    {
     "name": "stdout",
     "output_type": "stream",
     "text": [
      "和平共处五项原则\n"
     ]
    },
    {
     "name": "stdout",
     "output_type": "stream",
     "text": [
      "世界各国\n"
     ]
    },
    {
     "name": "stdout",
     "output_type": "stream",
     "text": [
      "世界和平\n"
     ]
    }
   ],
   "source": [
    "tokenLists = {str(idx): [] for idx in range(13, 20)}\n",
    "sentLists = {str(idx): [] for idx in range(13, 20)}\n",
    "\n",
    "for idx, report in jsonObj.items():\n",
    "    text = report['text']\n",
    "    sents = segmentSent(text)\n",
    "    sentLists[idx] = sents\n",
    "    for sent in sents:\n",
    "        tokenList = list(jieba.cut(sent))\n",
    "        tokenLists[idx].extend(tokenList)\n",
    "        # if idx == '13':\n",
    "        #     mentionList = getMention(tokenList, maxlen=5, minlen=2)\n",
    "        #     mentionLists[idx].extend(mentionList)"
   ]
  },
  {
   "cell_type": "code",
   "execution_count": 8,
   "metadata": {
    "collapsed": true
   },
   "outputs": [],
   "source": [
    "fds = {}\n",
    "for idx, tokenList in tokenLists.items():\n",
    "    fds[idx] = nltk.FreqDist(tuple(filter(lambda t: t.strip() != '', tokenList)))\n",
    "stopwords = loadWords('data/chineseStopWords.txt')\n",
    "for idx, fd in fds.items():\n",
    "    for token in stopwords:\n",
    "        if token in fd:\n",
    "            fd.pop(token)\n",
    "for idx, fd in fds.items():\n",
    "    for token in fd:\n",
    "        fd[token] /= len(tokenLists[idx])\n",
    "\n",
    "        \n",
    "def dumpFD(fd, filename):\n",
    "    with open(filename, 'w', encoding='utf-8') as outputFile:\n",
    "        for tf in fd.most_common(10000):\n",
    "            outputFile.write('{}\\t{}'.format(*tf) + '\\n')\n",
    "for idx, fd in fds.items():\n",
    "    dumpFD(fd, idx + '.txt')"
   ]
  },
  {
   "cell_type": "code",
   "execution_count": 9,
   "metadata": {
    "collapsed": false
   },
   "outputs": [
    {
     "name": "stdout",
     "output_type": "stream",
     "text": [
      "13 达成, 协议, 真正, 缓和, 所作, 巨大, 制止, 早日, 地区冲突, 正是\n14 历史, 主权, 人权, 方面, 独立, 建立, 我国, 友好关系, 包括, 得到\n15 要, 国内, 出发, 大局, 制裁, 不会, 集团, 军事, 进行, 应\n16 上应, 不应, 历史潮流, 应由, 政治经济, 光明, 福祉, 预见, 增加, 危害\n17 紧密, 务实, 战略, 潮流, 区域合作, 恪守, 协作, 共赢, 帮助, 中国政府\n18 全球性, 不要, 共, 赢, 发生, 持续, 平衡, 包容, 互鉴, 要\n19 文明, 放弃, 气候变化, 能够, 构建, 理念, 治理, 超越, 人类, 共\n"
     ]
    }
   ],
   "source": [
    "import math\n",
    "def mergeFDs(fds):\n",
    "    mergeFD = nltk.FreqDist()\n",
    "    for fd in fds.values():\n",
    "        for token, freq in fd.items():\n",
    "            mergeFD[token] += freq\n",
    "    return mergeFD\n",
    "mergeFD = mergeFDs(fds)\n",
    "\n",
    "idf = {}\n",
    "for token in mergeFD:\n",
    "    inDocCount = 0\n",
    "    for fd in fds.values():\n",
    "        if token in fd:\n",
    "            inDocCount += 1\n",
    "    idf[token] = math.log(len(fds) / float(inDocCount))\n",
    "\n",
    "from collections import defaultdict\n",
    "tfidf = defaultdict(nltk.FreqDist)\n",
    "for idx, fd in fds.items():\n",
    "    for token, freq in fd.items():\n",
    "        tfidf[idx][token] = freq * idf[token]\n",
    "for idx, values in tfidf.items():\n",
    "    print(idx, ', '.join(list(map(lambda tf: tf[0], values.most_common(10)))))"
   ]
  },
  {
   "cell_type": "code",
   "execution_count": 10,
   "metadata": {
    "collapsed": false
   },
   "outputs": [
    {
     "name": "stdout",
     "output_type": "stream",
     "text": [
      "14 国际新秩序, 新秩序, 他们的, 国际地位, 两极格局, 国际经济竞争, 经济环境, 对外关系, 并没有, 的尖端, 互不干涉内政, 国际经济新秩序, 国家垄断, 联合国成员国, 我们的, 新生活, 历史的经验, 得道多助，失道寡助, 世界各国, 国际社会, 中国外交政策, 军事集团, 第三世界国家, 国家发展, 不应, 正义的力量, 不可战胜, 新的, 联合国宪章, 和平与发展, 南北差距, 国际关系, 政治组织, 维护世界和平, 不称霸, 和平共处五项原则, 世界和平\n15 军事集团, 威胁世界, 国际经济旧秩序, 还在, 我们都要, 是以, 发展战略, 生活方式, 国际上, 友好协商, 经济发展, 国际组织, 合作关系, 于人, 美好的, 新秩序, 世界各国, 新的, 冷战思维, 不公正, 不应, 他们的, 国际新秩序, 人民自己, 第三世界国家, 互利合作, 社会主义现代化建设, 和平国际, 中的, 和平与发展, 联合国宪章, 维护世界和平, 共同发展, 不称霸, 世界和平, 和平共处五项原则\n16 仍是, 促进发展, 新安全观, 发展模式多样化, 不计较, 组织发展, 民间外交, 国际社会, 不可阻挡, 和平国际, 不公正, 不确定, 传统安全威胁, 中国外交政策, 人民自己, 国际合作, 正义的力量, 不可战胜, 世界多极化, 经济全球化, 新的, 共同发展, 也是, 非传统安全威胁, 繁荣的, 新秩序, 平等协商, 和平与发展, 南北差距, 国际关系民主化, 反对一切, 为善, 政治组织, 维护世界和平, 不称霸, 世界和平, 和平共处五项原则\n17 全球经济失衡, 经济失衡, 战争手段, 当代中国, 中国的前途, 在一起, 战略抉择, 战略对话, 共赢, 大变革, 不可阻挡, 科技革命, 传统安全威胁, 人类和平, 和谐世界, 地球家园, 和平发展道路, 和平解决国际争端, 国防政策, 不对, 开放战略, 发展能力, 国家发展, 中国发展, 经济全球化, 南北差距, 国际关系, 时代主题, 非传统安全威胁, 也是, 繁荣的, 平等协商, 不分, 分大小, 自主选择, 国际社会, 投资自由化, 合作共赢, 国际秩序, 共同发展\n18 中国, 就是要, 同时, 人类, 我们, 共赢, 世界经济, 正在发生, 新兴市场国家, 更多, 国际金融危机, 不平衡, 新干涉主义, 能源资源, 资源安全, 全球性问题, 只有一个地球, 一个世界, 不是人, 人民利益, 平衡增长, 宏观经济政策, 全面发展, 新型大国关系, 二十国集团, 上海合作组织, 金砖国家, 国际体系, 公共外交, 合作共赢, 社会信息化, 科技革命, 经济增长, 不确定, 和谐世界, 人类命运共同体, 和平发展道路, 和平解决国际争端, 负责任大国, 开放战略\n19 全球治理, 的世界, 共赢, 世界经济, 人类命运共同体, 国际合作, 和平发展, 贫富分化, 传染性疾病, 我们生活的世界, 自我封闭, 美丽的世界, 文明交流, 文明冲突, 应对气候变化, 决不放弃, 一带一路, 资金融通, 最不发达国家, 多边贸易体制, 共建共享, 中国智慧, 非传统安全威胁, 大变革, 社会信息化, 经济增长, 冷战思维, 地球家园, 国防政策, 中国发展, 不对, 负责任大国, 同志们, 经济全球化, 也是, 合作共赢, 时代主题, 国际秩序, 平等协商, 投资自由化\n13 这样的, 东西方关系, 世界各国, 同志们, 社会主义现代化建设, 和平共处五项原则, 世界和平\n"
     ]
    }
   ],
   "source": [
    "mentionFDs = {}\n",
    "for idx, mentionList in mentionLists.items():\n",
    "    mentionFDs[idx] = nltk.FreqDist(filter(lambda m: m, map(lambda m: m.strip(), mentionList)))\n",
    "for idx, fd in mentionFDs.items():\n",
    "    total = sum(fd.values())\n",
    "    for token in fd:\n",
    "        fd[token] /= total\n",
    "mergeMentionFD = mergeFDs(mentionFDs)\n",
    "\n",
    "mentionIDF = {}\n",
    "for token in mergeMentionFD:\n",
    "    inDocCount = 0\n",
    "    for fd in mentionFDs.values():\n",
    "        if token in fd:\n",
    "            inDocCount += 1\n",
    "    mentionIDF[token] = math.log(len(fds) / float(inDocCount))\n",
    "\n",
    "mentionTFIDF = defaultdict(nltk.FreqDist)\n",
    "for idx, fd in mentionFDs.items():\n",
    "    for token, freq in fd.items():\n",
    "        mentionTFIDF[idx][token] = freq * mentionIDF[token]\n",
    "for idx, values in mentionTFIDF.items():\n",
    "    print(idx, ', '.join(list(map(lambda tf: tf[0], values.most_common(40)))))"
   ]
  },
  {
   "cell_type": "code",
   "execution_count": 18,
   "metadata": {
    "collapsed": true
   },
   "outputs": [
    {
     "name": "stdout",
     "output_type": "stream",
     "text": [
      "Finish 13\n"
     ]
    },
    {
     "name": "stdout",
     "output_type": "stream",
     "text": [
      "Finish 14\n"
     ]
    },
    {
     "name": "stdout",
     "output_type": "stream",
     "text": [
      "Finish 15\n"
     ]
    },
    {
     "name": "stdout",
     "output_type": "stream",
     "text": [
      "Finish 16\n"
     ]
    },
    {
     "name": "stdout",
     "output_type": "stream",
     "text": [
      "Finish 17\n"
     ]
    },
    {
     "name": "stdout",
     "output_type": "stream",
     "text": [
      "Finish 18\n"
     ]
    },
    {
     "name": "stdout",
     "output_type": "stream",
     "text": [
      "Finish 19\n"
     ]
    }
   ],
   "source": [
    "api_key = 'i1V4s7C3R0ICSfgXaeiV0ZVnBbYXqamSnsOv6A3V'\n",
    "api_url = 'http://api.ltp-cloud.com/analysis/'\n",
    "sentParseLists = defaultdict(list)\n",
    "\n",
    "data = {\n",
    "    'api_key' : api_key,\n",
    "    'pattern' : 'dp',\n",
    "    'format' : 'json'\n",
    "}\n",
    "\n",
    "for idx, sents in sentLists.items():\n",
    "    for sent in sents:\n",
    "        data['text'] = sent\n",
    "        result = requests.get(api_url, data)\n",
    "        sentParseLists[idx].append(result.json())\n",
    "    print('Finish {}'.format(idx))"
   ]
  },
  {
   "cell_type": "code",
   "execution_count": null,
   "metadata": {
    "collapsed": true
   },
   "outputs": [
    {
     "ename": "NameError",
     "evalue": "name 'api_key' is not defined",
     "traceback": [
      "\u001b[0;31m---------------------------------------------------------------------------\u001b[0m",
      "\u001b[0;31mNameError\u001b[0m                                 Traceback (most recent call last)",
      "\u001b[0;32m<ipython-input-8-a4c411ec8e6d>\u001b[0m in \u001b[0;36m<module>\u001b[0;34m()\u001b[0m\n\u001b[1;32m      1\u001b[0m data_test = {\n\u001b[0;32m----> 2\u001b[0;31m     \u001b[1;34m'api_key'\u001b[0m \u001b[1;33m:\u001b[0m \u001b[0mapi_key\u001b[0m\u001b[1;33m,\u001b[0m\u001b[1;33m\u001b[0m\u001b[0m\n\u001b[0m\u001b[1;32m      3\u001b[0m     \u001b[1;34m'pattern'\u001b[0m \u001b[1;33m:\u001b[0m \u001b[1;34m'ner'\u001b[0m\u001b[1;33m,\u001b[0m\u001b[1;33m\u001b[0m\u001b[0m\n\u001b[1;32m      4\u001b[0m     \u001b[1;34m'text'\u001b[0m\u001b[1;33m:\u001b[0m \u001b[1;34m'习近平在中国共产党第十九次全国代表大会上的报告'\u001b[0m\u001b[1;33m,\u001b[0m\u001b[1;33m\u001b[0m\u001b[0m\n\u001b[1;32m      5\u001b[0m     \u001b[1;34m'format'\u001b[0m \u001b[1;33m:\u001b[0m \u001b[1;34m'json'\u001b[0m\u001b[1;33m\u001b[0m\u001b[0m\n",
      "\u001b[0;31mNameError\u001b[0m: name 'api_key' is not defined"
     ],
     "output_type": "error"
    }
   ],
   "source": [
    "data_test = {\n",
    "    'api_key' : api_key,\n",
    "    'pattern' : 'ner',\n",
    "    'text': '习近平在中国共产党第十九次全国代表大会上的报告',\n",
    "    'format' : 'json'\n",
    "}\n",
    "requests.get(api_url, data_test).json()"
   ]
  },
  {
   "cell_type": "code",
   "execution_count": 14,
   "metadata": {
    "collapsed": true
   },
   "outputs": [
    {
     "data": {
      "text/plain": [
       "defaultdict(list,\n            {'14': [[[[{'cont': '在',\n                  'id': 0,\n                  'parent': 11,\n                  'pos': 'p',\n                  'relate': 'ADV'},\n                 {'cont': '复杂',\n                  'id': 1,\n                  'parent': 2,\n                  'pos': 'a',\n                  'relate': 'ATT'},\n                 {'cont': '多变',\n                  'id': 2,\n                  'parent': 5,\n                  'pos': 'z',\n                  'relate': 'ATT'},\n                 {'cont': '的',\n                  'id': 3,\n                  'parent': 2,\n                  'pos': 'u',\n                  'relate': 'RAD'},\n                 {'cont': '国际',\n                  'id': 4,\n                  'parent': 5,\n                  'pos': 'n',\n                  'relate': 'ATT'},\n                 {'cont': '形势',\n                  'id': 5,\n                  'parent': 6,\n                  'pos': 'n',\n                  'relate': 'ATT'},\n                 {'cont': '下',\n                  'id': 6,\n                  'parent': 0,\n                  'pos': 'nd',\n                  'relate': 'POB'},\n                 {'cont': '，',\n                  'id': 7,\n                  'parent': 0,\n                  'pos': 'wp',\n                  'relate': 'WP'},\n                 {'cont': '我国',\n                  'id': 8,\n                  'parent': 10,\n                  'pos': 'n',\n                  'relate': 'ATT'},\n                 {'cont': '对外',\n                  'id': 9,\n                  'parent': 10,\n                  'pos': 'v',\n                  'relate': 'ATT'},\n                 {'cont': '工作',\n                  'id': 10,\n                  'parent': 11,\n                  'pos': 'v',\n                  'relate': 'SBV'},\n                 {'cont': '取得',\n                  'id': 11,\n                  'parent': -1,\n                  'pos': 'v',\n                  'relate': 'HED'},\n                 {'cont': '了',\n                  'id': 12,\n                  'parent': 11,\n                  'pos': 'u',\n                  'relate': 'RAD'},\n                 {'cont': '重大',\n                  'id': 13,\n                  'parent': 14,\n                  'pos': 'a',\n                  'relate': 'ATT'},\n                 {'cont': '成就',\n                  'id': 14,\n                  'parent': 11,\n                  'pos': 'n',\n                  'relate': 'VOB'},\n                 {'cont': '。',\n                  'id': 15,\n                  'parent': 11,\n                  'pos': 'wp',\n                  'relate': 'WP'}]]]]})"
      ]
     },
     "execution_count": 14,
     "metadata": {},
     "output_type": "execute_result"
    }
   ],
   "source": [
    "import pickle\n",
    "with open('data/parseLists.pkl', 'rb') as pklFile:\n",
    "    sentParseLists = pickle.load(pklFile)\n",
    "sentParseLists"
   ]
  },
  {
   "cell_type": "code",
   "execution_count": 83,
   "metadata": {
    "collapsed": true
   },
   "outputs": [
    {
     "data": {
      "text/plain": [
       "[[[{'cont': '要', 'id': 0, 'parent': 2, 'pos': 'v', 'relate': 'ADV'},\n   {'cont': '相互', 'id': 1, 'parent': 2, 'pos': 'd', 'relate': 'ADV'},\n   {'cont': '尊重', 'id': 2, 'parent': -1, 'pos': 'v', 'relate': 'HED'},\n   {'cont': '、', 'id': 3, 'parent': 4, 'pos': 'wp', 'relate': 'WP'},\n   {'cont': '平等', 'id': 4, 'parent': 5, 'pos': 'a', 'relate': 'ADV'},\n   {'cont': '协商', 'id': 5, 'parent': 2, 'pos': 'v', 'relate': 'COO'},\n   {'cont': '，', 'id': 6, 'parent': 2, 'pos': 'wp', 'relate': 'WP'},\n   {'cont': '坚决', 'id': 7, 'parent': 8, 'pos': 'a', 'relate': 'ADV'},\n   {'cont': '摒弃', 'id': 8, 'parent': 2, 'pos': 'v', 'relate': 'COO'},\n   {'cont': '冷战', 'id': 9, 'parent': 10, 'pos': 'n', 'relate': 'ATT'},\n   {'cont': '思维', 'id': 10, 'parent': 8, 'pos': 'n', 'relate': 'VOB'},\n   {'cont': '和', 'id': 11, 'parent': 12, 'pos': 'c', 'relate': 'LAD'},\n   {'cont': '强权政治', 'id': 12, 'parent': 10, 'pos': 'i', 'relate': 'COO'},\n   {'cont': '，', 'id': 13, 'parent': 2, 'pos': 'wp', 'relate': 'WP'},\n   {'cont': '走', 'id': 14, 'parent': 2, 'pos': 'v', 'relate': 'COO'},\n   {'cont': '对话', 'id': 15, 'parent': 14, 'pos': 'v', 'relate': 'VOB'},\n   {'cont': '而', 'id': 16, 'parent': 18, 'pos': 'c', 'relate': 'ADV'},\n   {'cont': '不', 'id': 17, 'parent': 18, 'pos': 'd', 'relate': 'ADV'},\n   {'cont': '对抗', 'id': 18, 'parent': 14, 'pos': 'v', 'relate': 'COO'},\n   {'cont': '、', 'id': 19, 'parent': 20, 'pos': 'wp', 'relate': 'WP'},\n   {'cont': '结伴', 'id': 20, 'parent': 18, 'pos': 'v', 'relate': 'COO'},\n   {'cont': '而', 'id': 21, 'parent': 28, 'pos': 'c', 'relate': 'ADV'},\n   {'cont': '不', 'id': 22, 'parent': 23, 'pos': 'd', 'relate': 'ADV'},\n   {'cont': '结盟', 'id': 23, 'parent': 25, 'pos': 'v', 'relate': 'ATT'},\n   {'cont': '的', 'id': 24, 'parent': 23, 'pos': 'u', 'relate': 'RAD'},\n   {'cont': '国', 'id': 25, 'parent': 28, 'pos': 'n', 'relate': 'SBV'},\n   {'cont': '与', 'id': 26, 'parent': 27, 'pos': 'c', 'relate': 'LAD'},\n   {'cont': '国', 'id': 27, 'parent': 25, 'pos': 'n', 'relate': 'COO'},\n   {'cont': '交往', 'id': 28, 'parent': 14, 'pos': 'v', 'relate': 'COO'},\n   {'cont': '新', 'id': 29, 'parent': 30, 'pos': 'a', 'relate': 'ATT'},\n   {'cont': '路', 'id': 30, 'parent': 28, 'pos': 'n', 'relate': 'VOB'},\n   {'cont': '。', 'id': 31, 'parent': 2, 'pos': 'wp', 'relate': 'WP'}]]]"
      ]
     },
     "execution_count": 83,
     "metadata": {},
     "output_type": "execute_result"
    }
   ],
   "source": [
    "sentParseLists['19'][10]"
   ]
  },
  {
   "cell_type": "code",
   "execution_count": 20,
   "metadata": {
    "collapsed": true
   },
   "outputs": [
    {
     "name": "stdout",
     "output_type": "stream",
     "text": [
      "14 不开\n14 不参加任何军事集团\n14 中国永远不称霸\n14 永远不搞扩张\n14 不应\n15 不公正\n15 、不合理\n15 世界仍不安宁\n15 不屈从于任何外来压力\n15 不搞军事集团\n15 不参加军备竞赛\n15 不进行军事扩张\n15 不应诉诸武力或以武力相威胁\n15 不能\n15 更不能\n15 我们不把自己的社会制度和意识形态强加于人\n15 不了\n15 不搞对抗\n15 不会\n15 也永远不称霸\n15 不会\n16 不起来\n16 不公正不合理的\n16 不合理\n16 不确定\n16 世界还很不安宁\n16 而不应把自己的意志强加于人\n16 不应\n16 不应\n16 而不应诉诸武力或以武力相威胁\n16 中国永远不称霸\n16 永远不搞扩张\n16 不计较社会制度和意识形态的差别\n17 世界仍然很不安宁\n17 坚持用和平方式而不是战争手段解决国际争端\n17 中国将始终不渝走和平发展道路\n17 国家不分大小\n17 不干涉别国内部事务\n17 不把自己的意志强加于人\n17 不搞军备竞赛\n17 不对任何国家构成军事威胁\n17 永远不称霸\n17 永远不搞扩张\n17 中国将始终不渝奉行互利共赢的开放战略\n17 不开\n17 不开\n18 世界仍然很不安宁\n18 不稳定\n18 不确定\n18 不平衡\n18 弱肉强食不是人共存之道\n18 要和平不要战争\n18 不要\n18 国家不分大小\n18 中国将始终不渝走和平发展道路\n18 不干涉别国内政\n18 永远不称霸\n18 永远不搞扩张\n18 中国将始终不渝奉行互利共赢的开放战略\n19 世界面临的不稳定性不确定性\n19 不能\n19 不能\n19 而不对抗\n19 不结盟的\n19 中国发展不对任何国家构成威胁\n19 永远不称霸\n19 永远不搞扩张\n19 最不发达国家\n19 国家不分大小\n"
     ]
    }
   ],
   "source": [
    "def collectRelation(sentParse):\n",
    "    tree = defaultdict(list)\n",
    "    parents = {}\n",
    "    for tokenParse in sentParse[0][0]:\n",
    "        parent = tokenParse['parent']\n",
    "        son = tokenParse['id']\n",
    "        tree[parent].append(son)\n",
    "        parents[son] = parent\n",
    "    return tree, parents\n",
    "def collectTokenID(sentParse):\n",
    "    idx2token = {-1: ''}\n",
    "    for tokenParse in sentParse[0][0]:\n",
    "        idx2token[int(tokenParse['id'])] = tokenParse['cont']\n",
    "    return idx2token\n",
    "def getSubTree(root, tree, maxdep=10):    \n",
    "    def getSubTreeRecursively(node, tree, subTree, dep):\n",
    "        if tree[node] and dep <= maxdep:\n",
    "            for son in tree[node]:\n",
    "                subTree.append(son)\n",
    "                getSubTreeRecursively(son, tree, subTree, dep+1)\n",
    "    dep = 0\n",
    "    subTree = [root]\n",
    "    getSubTreeRecursively(root, tree, subTree, dep+1)\n",
    "    return subTree\n",
    "def collectPunct(sentParse):\n",
    "    punctIndices = []\n",
    "    for tokenParse in sentParse[0][0]:\n",
    "        if tokenParse['relate'] == 'WP' and tokenParse['cont'] not in ['“”（）：']:\n",
    "            punctIndices.append(int(tokenParse['id']))\n",
    "    return punctIndices\n",
    "def cutWithPunct(tokenIdx, sent, punctIndices):\n",
    "    beginIdx = 0\n",
    "    for idx, tokenID in enumerate(sent):\n",
    "        if tokenID in punctIndices:\n",
    "            seg = sent[beginIdx:idx]\n",
    "            beginIdx = idx + 1\n",
    "            if tokenIdx in seg:\n",
    "                return seg\n",
    "    return sent\n",
    "\n",
    "positiveVerbs = loadWords('data/positiveVerb.txt')\n",
    "negativeVerbs = loadWords('data/negativeVerb.txt')\n",
    "\n",
    "positiveRelation = defaultdict(list)\n",
    "negativeRelation = defaultdict(list)\n",
    "for idx, parseList in sentParseLists.items():\n",
    "    for parse in parseList:\n",
    "        tree, parents = collectRelation(parse)\n",
    "        punctIndices = collectPunct(parse)\n",
    "        # print(punctIndices)\n",
    "        idx2token = collectTokenID(parse)\n",
    "        for tokenIdx, token in sorted(idx2token.items()):\n",
    "            if token == '不':\n",
    "                subTreeLoose = getSubTree(parents[tokenIdx], tree, maxdep=100)\n",
    "                mergeSubTree = sorted(set(subTreeLoose))\n",
    "                subSent = cutWithPunct(tokenIdx, mergeSubTree, punctIndices)\n",
    "                try:\n",
    "                    phrase = ''.join(map(idx2token.get, subSent))\n",
    "                    print(idx, phrase)\n",
    "                except:\n",
    "                    print(subSent)"
   ]
  },
  {
   "cell_type": "code",
   "execution_count": 74,
   "metadata": {
    "collapsed": false
   },
   "outputs": [
    {
     "name": "stdout",
     "output_type": "stream",
     "text": [
      "vn\n"
     ]
    },
    {
     "data": {
      "text/plain": [
       "<wordcloud.wordcloud.WordCloud at 0xe36b011c18>"
      ]
     },
     "execution_count": 74,
     "metadata": {},
     "output_type": "execute_result"
    }
   ],
   "source": [
    "import jieba.posseg\n",
    "wordcloud = WordCloud(font_path=r'C:\\Windows\\Fonts\\simfang.ttf', width=1400, height=1400, margin=2,\n",
    "                      max_words=50, prefer_horizontal=True)\n",
    "text = open('data/国际形势.txt', 'r', encoding='utf-8').read()\n",
    "pos_dict = {}\n",
    "\n",
    "wcfd = nltk.FreqDist()\n",
    "for w in jieba.posseg.cut(text):\n",
    "    wcfd[w.word] += 1\n",
    "    pos_dict[w.word] = w.flag\n",
    "print(pos_dict['发展'])\n",
    "\n",
    "for token in tuple(wcfd.keys()):\n",
    "    if ('v' not in pos_dict[token] and 'n' not in pos_dict[token]) or token in stopwords or token in ['世界', '要', '不']:\n",
    "        wcfd.pop(token)\n",
    "\n",
    "wcfd.most_common(20)\n",
    "wordcloud.generate_from_frequencies(wcfd)\n",
    "wordcloud.to_file('wc.png')"
   ]
  },
  {
   "cell_type": "code",
   "execution_count": 34,
   "metadata": {
    "collapsed": true
   },
   "outputs": [
    {
     "data": {
      "text/plain": [
       "FreqDist({'一个': 0.00942631888960536,\n          '一如既往': 0.0025795136850728876,\n          '一带': 0.002530442326469848,\n          '一律平等': 0.00319236142245591,\n          '一新': 0.0017281617664789638,\n          '一时': 0.00227858331271114,\n          '一百多个': 0.0017281617664789638,\n          '一系列': 0.0017281617664789638,\n          '一致': 0.00227858331271114,\n          '一贯主张': 0.00227858331271114,\n          '一路': 0.002530442326469848,\n          '一道': 0.0,\n          '七十七国集团': 0.0017281617664789638,\n          '上升': 0.0034193699562104028,\n          '上同': 0.007902821463699517,\n          '上应': 0.011429721874040018,\n          '上海': 0.002453858952150458,\n          '不': 0.008002090513301195,\n          '不会': 0.00455716662542228,\n          '不可': 0.004262950115155438,\n          '不可逆转': 0.0031402542484727054,\n          '不合理': 0.0033065287592643237,\n          '不屈': 0.00227858331271114,\n          '不应': 0.011429721874040018,\n          '不得': 0.0017281617664789638,\n          '不得人心': 0.0017281617664789638,\n          '不懈': 0.0025795136850728876,\n          '不懈努力': 0.003090950422498866,\n          '不断': 0.0035989393818138616,\n          '不断加强': 0.0017281617664789638,\n          '不断扩大': 0.0025795136850728876,\n          '不是': 0.003090950422498866,\n          '不确定性': 0.002530442326469848,\n          '不稳定性': 0.002530442326469848,\n          '不结盟': 0.002530442326469848,\n          '不结盟运动': 0.0017281617664789638,\n          '不能': 0.00619203228703594,\n          '不要': 0.006368410854954258,\n          '不足': 0.002530442326469848,\n          '世界': 0.0,\n          '世界大战': 0.002988833404107571,\n          '东西方': 0.009928113005384251,\n          '两大': 0.0017281617664789638,\n          '两极': 0.0017281617664789638,\n          '严峻': 0.0028574304685100044,\n          '严格遵守': 0.0017281617664789638,\n          '严重': 0.00227858331271114,\n          '个别': 0.009928113005384251,\n          '中华人民共和国': 0.0017281617664789638,\n          '中华民族': 0.002347298129137893,\n          '中国': 0.0,\n          '中国共产党': 0.006595895540759473,\n          '中国政府': 0.004134925455281384,\n          '中导': 0.009928113005384251,\n          '丰富多彩': 0.0033065287592643237,\n          '为伴': 0.002930218533098012,\n          '为此': 0.002623751790027623,\n          '为重': 0.0028574304685100044,\n          '主人': 0.0017281617664789638,\n          '主张': 0.00554516191696707,\n          '主权': 0.007142667381114412,\n          '主流': 0.00227858331271114,\n          '主要': 0.0028131082903397704,\n          '主题': 0.0011245577608611688,\n          '义利观': 0.002530442326469848,\n          '义务': 0.003090950422498866,\n          '之上': 0.0017281617664789638,\n          '之中': 0.002347298129137893,\n          '之道': 0.002453858952150458,\n          '争取': 0.002988833404107571,\n          '争取和平': 0.0017281617664789638,\n          '争端': 0.004020507472833652,\n          '争议': 0.00227858331271114,\n          '事': 0.0017281617664789638,\n          '事业': 0.002857787501016884,\n          '事关': 0.003350766864219059,\n          '事务': 0.002843028436942404,\n          '事情': 0.004990119046211298,\n          '互不侵犯': 0.0017281617664789638,\n          '互不干涉': 0.0037413181824265803,\n          '互信': 0.005425283881692024,\n          '互利': 0.003563482063356635,\n          '互相': 0.004493802960745589,\n          '互鉴': 0.004788634097709153,\n          '五项原则': 0.0,\n          '交往': 0.004217859796954323,\n          '交汇点': 0.002530442326469848,\n          '交流': 0.00188266346872929,\n          '产生': 0.0028574304685100044,\n          '亲诚': 0.002530442326469848,\n          '亲诚惠容': 0.002530442326469848,\n          '人大': 0.00319236142245591,\n          '人文': 0.002453858952150458,\n          '人权': 0.007029826184168333,\n          '人民': 0.0,\n          '人民团体': 0.002530442326469848,\n          '人类': 0.008134826766331276,\n          '人类文明': 0.003090950422498866,\n          '仅仅': 0.009928113005384251,\n          '今后': 0.003692091809846749,\n          '仍': 0.0033065287592643237,\n          '仍然': 0.0030895427768570165,\n          '仍须': 0.009928113005384251,\n          '从中': 0.0028574304685100044,\n          '从于': 0.00227858331271114,\n          '代价': 0.002530442326469848,\n          '代表性': 0.003208857340464049,\n          '以大': 0.0017281617664789638,\n          '以富': 0.0017281617664789638,\n          '以强凌弱': 0.002741658707992806,\n          '以邻': 0.002930218533098012,\n          '以邻为壑': 0.002347298129137893,\n          '任何人': 0.002530442326469848,\n          '任何借口': 0.00227858331271114,\n          '任务': 0.0017281617664789638,\n          '优势互补': 0.002347298129137893,\n          '优越': 0.002530442326469848,\n          '伙伴': 0.002453858952150458,\n          '伙伴关系': 0.003208857340464049,\n          '传染性': 0.002530442326469848,\n          '传统': 0.0033680865362237106,\n          '传统友谊': 0.002347298129137893,\n          '伸张正义': 0.002843028436942404,\n          '伸得': 0.0017281617664789638,\n          '体制': 0.002530442326469848,\n          '体系': 0.004837937923682993,\n          '体育': 0.0017281617664789638,\n          '作主': 0.00227858331271114,\n          '作出': 0.00255505033229334,\n          '作用': 0.003121210702393247,\n          '使': 0.0034193699562104028,\n          '使命': 0.002530442326469848,\n          '依存': 0.002530442326469848,\n          '依法': 0.002347298129137893,\n          '依然': 0.002978109225552787,\n          '侵犯': 0.0017281617664789638,\n          '侵略': 0.0040464492453719135,\n          '侵略扩张': 0.007504225923219617,\n          '便利化': 0.00319236142245591,\n          '促': 0.002347298129137893,\n          '促使': 0.0017281617664789638,\n          '促发展': 0.00227858331271114,\n          '促进': 0.003864043482033347,\n          '保护': 0.0031402542484727054,\n          '保护主义': 0.002453858952150458,\n          '保持': 0.0034193699562104028,\n          '保障': 0.0025795136850728876,\n          '信任': 0.0028574304685100044,\n          '信息化': 0.003208857340464049,\n          '借鉴': 0.0033347402230686283,\n          '倡导': 0.003208857340464049,\n          '做出': 0.0017281617664789638,\n          '停止': 0.009928113005384251,\n          '健康': 0.003090950422498866,\n          '充分发挥': 0.00227858331271114,\n          '充满': 0.002530442326469848,\n          '充满希望': 0.002530442326469848,\n          '光明': 0.005146121958229622,\n          '党际': 0.00227858331271114,\n          '全世界': 0.009928113005384251,\n          '全人类': 0.0028574304685100044,\n          '全方位': 0.002453858952150458,\n          '全球': 0.004951963369400792,\n          '全球化': 0.005154742503856272,\n          '全球性': 0.004907717904300916,\n          '全面': 0.002692354882018966,\n          '公共': 0.002453858952150458,\n          '公平正义': 0.004837937923682993,\n          '公正': 0.0032039840394111805,\n          '公认': 0.002623751790027623,\n          '公道': 0.003090950422498866,\n          '共': 0.008555012059421767,\n          '共享': 0.003208857340464049,\n          '共同': 0.0068892769888942666,\n          '共同体': 0.004837937923682993,\n          '共同利益': 0.005060287194146855,\n          '共同努力': 0.0028574304685100044,\n          '共同愿望': 0.0034193699562104028,\n          '共商': 0.002530442326469848,\n          '共处': 0.002453858952150458,\n          '共存': 0.003208857340464049,\n          '共建': 0.002530442326469848,\n          '共担': 0.002453858952150458,\n          '共赢': 0.004602124087752627,\n          '关切': 0.003090950422498866,\n          '关心': 0.0017281617664789638,\n          '关系': 0.0,\n          '具体情况': 0.0017281617664789638,\n          '具备': 0.002453858952150458,\n          '具有': 0.0017281617664789638,\n          '兼顾': 0.003090950422498866,\n          '内政': 0.004427743549466972,\n          '内部事务': 0.0026490874217458913,\n          '军事': 0.004751013170294961,\n          '军事同盟': 0.00227858331271114,\n          '军备': 0.009928113005384251,\n          '军备竞赛': 0.007537696675339816,\n          '军控': 0.0017281617664789638,\n          '军队': 0.0031402542484727054,\n          '冲突': 0.0034481986111477036,\n          '决不': 0.002876374750097487,\n          '决不会': 0.003162441275853276,\n          '决不允许': 0.00227858331271114,\n          '决不能': 0.0017281617664789638,\n          '决定': 0.0033048200764659945,\n          '冷战': 0.00309601614351797,\n          '准则': 0.003736329914801484,\n          '凌辱': 0.0017281617664789638,\n          '出发': 0.00455716662542228,\n          '出现': 0.007858583358744781,\n          '分': 0.00319236142245591,\n          '分享': 0.002347298129137893,\n          '分化': 0.002846454603494853,\n          '分歧': 0.0011245577608611688,\n          '列强': 0.00227858331271114,\n          '创造': 0.002741658707992806,\n          '利用': 0.0025795136850728876,\n          '利益': 0.006980675618919173,\n          '别人': 0.0017281617664789638,\n          '别国': 0.003420031516444058,\n          '制止': 0.009928113005384251,\n          '制裁': 0.00455716662542228,\n          '前途': 0.003554860980014802,\n          '剧变': 0.0017281617664789638,\n          '力度': 0.002530442326469848,\n          '力所能及': 0.002347298129137893,\n          '力量': 0.004504218110723428,\n          '力量对比': 0.00319236142245591,\n          '加以解决': 0.00227858331271114,\n          '加剧': 0.003090950422498866,\n          '加大': 0.002530442326469848,\n          '加强': 0.0035893641069742305,\n          '加深': 0.002530442326469848,\n          '加速': 0.0031402542484727054,\n          '务实': 0.004694596258275786,\n          '动能': 0.002530442326469848,\n          '动荡': 0.002692354882018966,\n          '动荡不安': 0.0017281617664789638,\n          '动辄': 0.0030467123175441308,\n          '努力': 0.0034204520579229286,\n          '努力实现': 0.002530442326469848,\n          '包容': 0.006417714680928098,\n          '包括': 0.0034563235329579277,\n          '化解': 0.002530442326469848,\n          '区域合作': 0.00486194052947282,\n          '区域性': 0.0033065287592643237,\n          '十国集团': 0.002453858952150458,\n          '升级': 0.009928113005384251,\n          '协作': 0.00486194052947282,\n          '协力': 0.002347298129137893,\n          '协商': 0.0017318773852745212,\n          '协议': 0.019856226010768502,\n          '协调': 0.003208857340464049,\n          '南北': 0.0024665089393447375,\n          '卫生': 0.0017281617664789638,\n          '危害': 0.0028574304685100044,\n          '危险': 0.009928113005384251,\n          '历史': 0.007142667381114412,\n          '历史性': 0.002347298129137893,\n          '历史潮流': 0.005714860937020009,\n          '压力': 0.0028131082903397704,\n          '压贫': 0.0017281617664789638,\n          '压迫': 0.00227858331271114,\n          '原则': 0.0031318787520561117,\n          '原则立场': 0.0034563235329579277,\n          '参与': 0.002692354882018966,\n          '参加': 0.003692091809846749,\n          '友好': 0.00227858331271114,\n          '友好关系': 0.0034563235329579277,\n          '友好合作': 0.0032832412621934415,\n          '友好往来': 0.002453858952150458,\n          '友好相处': 0.0040464492453719135,\n          '友谊': 0.003350766864219059,\n          '双方': 0.00227858331271114,\n          '反对': 0.0035069976034296066,\n          '反映': 0.00227858331271114,\n          '发展': 0.0,\n          '发展中国家': 0.004507637217833983,\n          '发挥': 0.00403887048905397,\n          '发挥作用': 0.0028574304685100044,\n          '发生': 0.004670727179743971,\n          '发言权': 0.003208857340464049,\n          '发达': 0.00227858331271114,\n          '发达国家': 0.0011245577608611688,\n          '取得': 0.0017281617664789638,\n          '取长补短': 0.0034193699562104028,\n          '受': 0.0017281617664789638,\n          '受益': 0.0028574304685100044,\n          '变动': 0.0017281617664789638,\n          '变化': 0.003090950422498866,\n          '变幻': 0.003350766864219059,\n          '变革': 0.00476933483169165,\n          '可能': 0.0025795136850728876,\n          '可靠': 0.002453858952150458,\n          '各个方面': 0.00227858331271114,\n          '各个领域': 0.0017281617664789638,\n          '各国': 0.0,\n          '各方': 0.002347298129137893,\n          '各族人民': 0.0017281617664789638,\n          '合作': 0.008041370606923068,\n          '合作者': 0.002347298129137893,\n          '合法': 0.002453858952150458,\n          '合法权益': 0.002453858952150458,\n          '合理': 0.0027402058764061073,\n          '同心协力': 0.002530442326469848,\n          '同志': 0.0080207283816647,\n          '同样': 0.0017281617664789638,\n          '同舟共济': 0.003208857340464049,\n          '吞下': 0.002530442326469848,\n          '告诉': 0.0017281617664789638,\n          '周边': 0.0031402542484727054,\n          '周边国家': 0.002060631693722044,\n          '周边环境': 0.00477346431956335,\n          '呵护': 0.002347298129137893,\n          '呼吁': 0.002530442326469848,\n          '呼声': 0.007858583358744781,\n          '命运': 0.006418069158066903,\n          '和平': 0.0,\n          '和平共处': 0.0,\n          '和平解决': 0.002533026054665051,\n          '和睦': 0.002347298129137893,\n          '和谐': 0.0033347402230686283,\n          '商量': 0.00227858331271114,\n          '善': 0.002930218533098012,\n          '因素': 0.005541168702254557,\n          '团结': 0.002988833404107571,\n          '团结合作': 0.0031024515698149383,\n          '国': 0.002453858952150458,\n          '国与国': 0.003707332623249011,\n          '国内': 0.00455716662542228,\n          '国家': 0.0,\n          '国家主权': 0.0035955132152614127,\n          '国情': 0.0025795136850728876,\n          '国门': 0.002530442326469848,\n          '国防': 0.0031402542484727054,\n          '国际': 0.009105618184673977,\n          '国际争端': 0.0038651006448883673,\n          '国际事务': 0.004285379221740731,\n          '国际交往': 0.0017281617664789638,\n          '国际公约': 0.0017281617664789638,\n          '国际形势': 0.0075695442960244325,\n          '国际法': 0.002623751790027623,\n          '国际经贸': 0.002347298129137893,\n          '国际贸易': 0.002347298129137893,\n          '国际风云': 0.003350766864219059,\n          '地位': 0.0017281617664789638,\n          '地区': 0.00244955567141834,\n          '地区冲突': 0.009928113005384251,\n          '地同': 0.002623751790027623,\n          '地方': 0.00319236142245591,\n          '地球': 0.00319236142245591,\n          '均衡': 0.002605457086746179,\n          '坚决': 0.0029227739928289554,\n          '坚定': 0.0019605417706246055,\n          '坚定不移': 0.004785590476883808,\n          '坚持': 0.004210158629086809,\n          '坚持不懈': 0.009928113005384251,\n          '垄断': 0.0017281617664789638,\n          '基本': 0.0034563235329579277,\n          '基本国策': 0.002530442326469848,\n          '基础': 0.0,\n          '增加': 0.0028574304685100044,\n          '增多': 0.002453858952150458,\n          '增强': 0.003563482063356635,\n          '增添': 0.002530442326469848,\n          '增进': 0.004196299306988951,\n          '增长': 0.004230912726530709,\n          '处于': 0.002741658707992806,\n          '处在': 0.002623751790027623,\n          '处理': 0.0017281617664789638,\n          '复杂': 0.0029227739928289554,\n          '复杂多变': 0.0017281617664789638,\n          '外交': 0.002155806472904504,\n          '外交政策': 0.0,\n          '外交活动': 0.0033065287592643237,\n          '外来': 0.0028131082903397704,\n          '多层次': 0.002453858952150458,\n          '多极化': 0.001531421364692911,\n          '多样化': 0.004482957229632612,\n          '多样性': 0.0011245577608611688,\n          '多种': 0.0028574304685100044,\n          '多边': 0.002857787501016884,\n          '多边贸易': 0.002530442326469848,\n          '大势': 0.002530442326469848,\n          '大国': 0.007426700315539068,\n          '大小': 0.002605457086746179,\n          '大局': 0.00455716662542228,\n          '太长': 0.0017281617664789638,\n          '夯实': 0.002453858952150458,\n          '失衡': 0.002347298129137893,\n          '失道寡助': 0.0017281617664789638,\n          '奉行': 0.0,\n          '奋斗': 0.002530442326469848,\n          '好': 0.002530442326469848,\n          '妥善': 0.00227858331271114,\n          '妥善处理': 0.004602124087752627,\n          '妥善解决': 0.0034193699562104028,\n          '始终': 0.002876374750097487,\n          '始终不渝': 0.00284726230797799,\n          '姿态': 0.002453858952150458,\n          '威胁': 0.005779384950773062,\n          '孕育': 0.002453858952150458,\n          '存在': 0.005834796374788229,\n          '孤岛': 0.002530442326469848,\n          '安全': 0.006491182723492358,\n          '安全观': 0.0028574304685100044,\n          '安宁': 0.002857787501016884,\n          '安理会': 0.0017281617664789638,\n          '安理会常任理事国': 0.0017281617664789638,\n          '完全': 0.002988833404107571,\n          '完善': 0.002347298129137893,\n          '宏观经济': 0.002453858952150458,\n          '宗教': 0.002988833404107571,\n          '宗旨': 0.0025616837185271973,\n          '实事求是': 0.0017281617664789638,\n          '实力': 0.00227858331271114,\n          '实现': 0.010014551060368781,\n          '实行': 0.0034563235329579277,\n          '宪法': 0.0017281617664789638,\n          '宪章': 0.00303002053773381,\n          '家园': 0.0031402542484727054,\n          '密切联系': 0.0017281617664789638,\n          '密切配合': 0.00227858331271114,\n          '对付': 0.00227858331271114,\n          '对外': 0.002658273321823666,\n          '对外开放': 0.002741658707992806,\n          '对抗': 0.003162441275853276,\n          '对方': 0.002347298129137893,\n          '对此': 0.009928113005384251,\n          '对话': 0.0024678695115553325,\n          '寻求': 0.00227858331271114,\n          '导致': 0.0028574304685100044,\n          '封闭': 0.002530442326469848,\n          '尊重': 0.0025804059141083225,\n          '少数几个': 0.0017281617664789638,\n          '尖端': 0.0017281617664789638,\n          '局部': 0.002857787501016884,\n          '局部战争': 0.0017281617664789638,\n          '屈服于': 0.002692354882018966,\n          '属于': 0.0017281617664789638,\n          '崇高': 0.002857787501016884,\n          '工作': 0.0017281617664789638,\n          '巨大': 0.009928113005384251,\n          '巩固': 0.002692354882018966,\n          '差别': 0.0029521713237391596,\n          '差异': 0.0025795136850728876,\n          '差距': 0.0024665089393447375,\n          '已经': 0.0035191938259273104,\n          '市场': 0.002453858952150458,\n          '市场准入': 0.002347298129137893,\n          '带来': 0.0034193699562104028,\n          '帮助': 0.00486194052947282,\n          '干涉': 0.0026533581779086867,\n          '干涉主义': 0.002453858952150458,\n          '平台': 0.002530442326469848,\n          '平等': 0.002743210325041145,\n          '平等互利': 0.004804669934620611,\n          '平衡': 0.006417714680928098,\n          '并存': 0.0028574304685100044,\n          '幸福': 0.002530442326469848,\n          '幻想': 0.002530442326469848,\n          '广大': 0.003685308345620722,\n          '广泛开展': 0.0033065287592643237,\n          '应': 0.0049731375267942305,\n          '应对': 0.0053959969501209395,\n          '应当': 0.0034563235329579277,\n          '应由': 0.005714860937020009,\n          '应该': 0.002978109225552787,\n          '建国以来': 0.0017281617664789638,\n          '建立': 0.006864388726537078,\n          '建设': 0.0028874176497934597,\n          '建设性': 0.002347298129137893,\n          '开创': 0.00227858331271114,\n          '开展': 0.003090950422498866,\n          '开放': 0.004294179186288424,\n          '开放型': 0.002530442326469848,\n          '引发': 0.00227858331271114,\n          '弘扬': 0.003090950422498866,\n          '弱肉强食': 0.002453858952150458,\n          '强加于': 0.0025795136850728876,\n          '强加于人': 0.002030324340396408,\n          '强劲': 0.002453858952150458,\n          '强弱': 0.002605457086746179,\n          '强权政治': 0.0020050563288234176,\n          '当今': 0.0033065287592643237,\n          '当今世界': 0.00303002053773381,\n          '当代': 0.002347298129137893,\n          '当前': 0.006067585106943989,\n          '形式': 0.004108021162844071,\n          '形成': 0.0017281617664789638,\n          '影响': 0.0030651527934416737,\n          '彼此之间': 0.00227858331271114,\n          '得到': 0.0034563235329579277,\n          '得道多助': 0.0017281617664789638,\n          '心愿': 0.002347298129137893,\n          '必须': 0.009928113005384251,\n          '思想': 0.00227858331271114,\n          '思维': 0.00309601614351797,\n          '总体': 0.0034190382194512437,\n          '恃强凌弱': 0.00227858331271114,\n          '恐怖主义': 0.0053014492319072345,\n          '恐怖活动': 0.0028574304685100044,\n          '恪守': 0.0046514279137264665,\n          '恶化': 0.0017281617664789638,\n          '悲惨': 0.0017281617664789638,\n          '惠及': 0.002453858952150458,\n          '意志': 0.0033680865362237106,\n          '意识': 0.002453858952150458,\n          '意识形态': 0.006478107083432248,\n          '愿': 0.0033065287592643237,\n          '愿同': 0.003414485778955179,\n          '愿意': 0.003692091809846749,\n          '成为': 0.005024163382565327,\n          '成员': 0.0017281617664789638,\n          '成员国': 0.0017281617664789638,\n          '成立': 0.0017281617664789638,\n          '我党': 0.00227858331271114,\n          '我国': 0.009005701958989058,\n          '战争': 0.003090950422498866,\n          '战略': 0.005126840135858653,\n          '战胜': 0.0029521713237391596,\n          '所作': 0.009928113005384251,\n          '所有': 0.002623751790027623,\n          '手': 0.0017281617664789638,\n          '手中': 0.002530442326469848,\n          '手段': 0.002347298129137893,\n          '扎实': 0.002453858952150458,\n          '打击': 0.0028574304685100044,\n          '打开': 0.002530442326469848,\n          '打着': 0.0017281617664789638,\n          '打造': 0.002530442326469848,\n          '扩大': 0.0024670333049126164,\n          '扩张': 0.0011245577608611688,\n          '承担': 0.002347298129137893,\n          '技术': 0.00227858331271114,\n          '抉择': 0.0031402542484727054,\n          '投资': 0.00319236142245591,\n          '拉大': 0.002347298129137893,\n          '拓宽': 0.0034193699562104028,\n          '拓展': 0.002453858952150458,\n          '持久和平': 0.00319236142245591,\n          '持续': 0.004788634097709153,\n          '挑战': 0.003436774060845046,\n          '损人利己': 0.002347298129137893,\n          '损害': 0.00309601614351797,\n          '排斥': 0.0028574304685100044,\n          '推动': 0.005104087356686648,\n          '推向': 0.0028574304685100044,\n          '推进': 0.004983533965089573,\n          '提供': 0.002347298129137893,\n          '提倡': 0.0028574304685100044,\n          '提高': 0.004064749448513021,\n          '握': 0.002530442326469848,\n          '援助': 0.0031402542484727054,\n          '搁置': 0.00227858331271114,\n          '搞': 0.0016914658344358265,\n          '携手': 0.002347298129137893,\n          '摒弃': 0.002530442326469848,\n          '摩擦': 0.003090950422498866,\n          '操纵': 0.0017281617664789638,\n          '支持': 0.004684290691111109,\n          '改变': 0.002988833404107571,\n          '改善': 0.002315902929847201,\n          '改革': 0.002530442326469848,\n          '改革开放': 0.0017281617664789638,\n          '放弃': 0.007591326979409545,\n          '政': 0.00227858331271114,\n          '政党': 0.0017992720752522018,\n          '政协': 0.00319236142245591,\n          '政权': 0.002453858952150458,\n          '政治': 0.0015368647998235264,\n          '政治经济': 0.005146121958229622,\n          '政的': 0.00227858331271114,\n          '政策': 0.0028223898883424367,\n          '效果': 0.0028574304685100044,\n          '教育': 0.0017281617664789638,\n          '整体实力': 0.002453858952150458,\n          '文化': 0.002853538024103564,\n          '文化交流': 0.0033065287592643237,\n          '文明': 0.010025392361950266,\n          '新': 0.008255847481611235,\n          '新兴': 0.002453858952150458,\n          '新动力': 0.002530442326469848,\n          '新型': 0.004230912726530709,\n          '新格局': 0.0017281617664789638,\n          '新路': 0.002530442326469848,\n          '方兴未艾': 0.002347298129137893,\n          '方向': 0.0022968212561688497,\n          '方式': 0.002978109225552787,\n          '方针': 0.0031402542484727054,\n          '方面': 0.005184485299436892,\n          '旗号': 0.0017281617664789638,\n          '旗帜': 0.00319236142245591,\n          '无助于': 0.00227858331271114,\n          '无法': 0.002453858952150458,\n          '日益': 0.005588287642101468,\n          '日益严重': 0.002530442326469848,\n          '日趋激烈': 0.0017281617664789638,\n          '旧': 0.0033065287592643237,\n          '早日': 0.009928113005384251,\n          '时代': 0.0037555521506164318,\n          '时期': 0.004517501955902411,\n          '时起时伏': 0.0033065287592643237,\n          '昭示': 0.002453858952150458,\n          '是非曲直': 0.0030467123175441308,\n          '普惠': 0.0031402542484727054,\n          '普遍': 0.0038542368327666673,\n          '智慧': 0.002530442326469848,\n          '暂时': 0.00227858331271114,\n          '曲折': 0.006559296893070214,\n          '更加': 0.002809147663742419,\n          '更好': 0.002453858952150458,\n          '更趋': 0.002530442326469848,\n          '曾经': 0.00227858331271114,\n          '最好': 0.0017281617664789638,\n          '最近': 0.009928113005384251,\n          '有利': 0.007504225923219617,\n          '有利于': 0.005151651471349792,\n          '有利条件': 0.0034193699562104028,\n          '有所': 0.002453858952150458,\n          '有效': 0.0017281617664789638,\n          '有权': 0.0025795136850728876,\n          '朋友': 0.002453858952150458,\n          '未': 0.009928113005384251,\n          '未来': 0.00227858331271114,\n          '本国': 0.0037357151000735615,\n          '本身': 0.0030467123175441308,\n          '机遇': 0.003350766864219059,\n          '权利': 0.0033111516490859304,\n          '权益': 0.002347298129137893,\n          '权责': 0.002453858952150458,\n          '构建': 0.005060884652939696,\n          '构成': 0.002347298129137893,\n          '构成威胁': 0.00309601614351797,\n          '标本兼治': 0.0028574304685100044,\n          '树立': 0.0028574304685100044,\n          '根本': 0.0037413181824265803,\n          '根本利益': 0.004280493041680489,\n          '根源': 0.0033065287592643237,\n          '格局': 0.0017281617664789638,\n          '框架': 0.002530442326469848,\n          '梦想': 0.002530442326469848,\n          '模式': 0.0028574304685100044,\n          '欢迎': 0.009928113005384251,\n          '欺凌': 0.00227858331271114,\n          '欺压': 0.0017281617664789638,\n          '欺小': 0.0017281617664789638,\n          '欺负': 0.00227858331271114,\n          '正': 0.0036288595284164954,\n          '正义': 0.0029521713237391596,\n          '正向': 0.0028574304685100044,\n          '正在': 0.0028131082903397704,\n          '正当': 0.002347298129137893,\n          '正当权益': 0.002910457139615294,\n          '正当要求': 0.002347298129137893,\n          '正是': 0.009928113005384251,\n          '正确': 0.002530442326469848,\n          '此起彼伏': 0.0031402542484727054,\n          '武力': 0.0033048200764659945,\n          '武力威胁': 0.0017281617664789638,\n          '武器': 0.0017281617664789638,\n          '比较': 0.0028574304685100044,\n          '民主': 0.002347298129137893,\n          '民主化': 0.002930218533098012,\n          '民心': 0.002530442326469848,\n          '民族': 0.004502617398179759,\n          '民族利益': 0.0017281617664789638,\n          '民族矛盾': 0.0017281617664789638,\n          '民生': 0.002347298129137893,\n          '民间': 0.0028574304685100044,\n          '民间团体': 0.003090950422498866,\n          '气候变化': 0.005060884652939696,\n          '水平': 0.0028574304685100044,\n          '永远': 0.002443504777494416,\n          '求': 0.002978109225552787,\n          '求同存异': 0.0031460819048146505,\n          '汇合点': 0.0032584208337345256,\n          '沟通': 0.002530442326469848,\n          '没有': 0.005629370683932688,\n          '治理': 0.006467018506901938,\n          '洲际性': 0.00227858331271114,\n          '活跃': 0.00227858331271114,\n          '流血冲突': 0.0017281617664789638,\n          '海外': 0.002453858952150458,\n          '消除': 0.008231240997411054,\n          '涉及': 0.0017281617664789638,\n          '深入': 0.002605457086746179,\n          '深刻': 0.0030467123175441308,\n          '深化': 0.005282905081079306,\n          '深远': 0.002453858952150458,\n          '清洁': 0.002530442326469848,\n          '清醒': 0.009928113005384251,\n          '渴望': 0.002453858952150458,\n          '漫长': 0.009928113005384251,\n          '潮流': 0.004489282890806548,\n          '热点': 0.009928113005384251,\n          '热点问题': 0.004214433630401873,\n          '热爱': 0.003090950422498866,\n          '爱好和平': 0.009928113005384251,\n          '特别': 0.0028798117786451726,\n          '牺牲': 0.002530442326469848,\n          '状况': 0.0017281617664789638,\n          '独立': 0.005917248059394472,\n          '独立自主': 0.0,\n          '独自': 0.002530442326469848,\n          '环保': 0.002347298129137893,\n          '环境': 0.004298364195770321,\n          '环境友好': 0.002530442326469848,\n          '现代化': 0.006067585106943989,\n          '现在': 0.0034563235329579277,\n          '现实': 0.002530442326469848,\n          '现实状况': 0.0017281617664789638,\n          '现象': 0.00227858331271114,\n          '理应': 0.0017281617664789638,\n          '理念': 0.005060884652939696,\n          '理想': 0.002530442326469848,\n          '生存': 0.00227858331271114,\n          '生活': 0.0035989393818138616,\n          '畅通': 0.002530442326469848,\n          '疾病': 0.002530442326469848,\n          '痛苦': 0.00227858331271114,\n          '目前': 0.0017281617664789638,\n          '目标': 0.002988833404107571,\n          '相互': 0.005102072865257861,\n          '相互了解': 0.002623751790027623,\n          '相互交织': 0.003350766864219059,\n          '相互依存': 0.002347298129137893,\n          '相互促进': 0.0028574304685100044,\n          '相互信任': 0.003350766864219059,\n          '相互合作': 0.002347298129137893,\n          '相互尊重': 0.003607530618613212,\n          '相互支持': 0.0025795136850728876,\n          '相互理解': 0.0028574304685100044,\n          '相威胁': 0.004296972137809324,\n          '相平衡': 0.002453858952150458,\n          '相应': 0.002347298129137893,\n          '相当': 0.00227858331271114,\n          '相待': 0.0025795136850728876,\n          '相通': 0.002530442326469848,\n          '看到': 0.007504225923219617,\n          '真实': 0.002530442326469848,\n          '真正': 0.013895873721665371,\n          '真诚': 0.002453858952150458,\n          '着眼于': 0.00227858331271114,\n          '睦邻友好': 0.002857787501016884,\n          '睦领': 0.0017281617664789638,\n          '矛盾': 0.0029521713237391596,\n          '确定': 0.0034193699562104028,\n          '磋商': 0.002347298129137893,\n          '社会': 0.003576661784713281,\n          '社会主义': 0.007858583358744781,\n          '社会制度': 0.006958335585003616,\n          '福祉': 0.0028574304685100044,\n          '离不开': 0.004134925455281384,\n          '秉持': 0.004294179186288424,\n          '种种': 0.0017281617664789638,\n          '科学': 0.00227858331271114,\n          '科技': 0.002843028436942404,\n          '秩序': 0.0022595302200797513,\n          '积极': 0.006232046469562323,\n          '积极参与': 0.0013189470166332475,\n          '积极开展': 0.002347298129137893,\n          '称霸': 0.0011245577608611688,\n          '程度': 0.0080207283816647,\n          '稳定': 0.0029930294312183786,\n          '穷兵黩武': 0.002453858952150458,\n          '空前': 0.00227858331271114,\n          '突出': 0.0029227739928289554,\n          '突破': 0.002453858952150458,\n          '立场': 0.0030467123175441308,\n          '立足点': 0.0017281617664789638,\n          '竞争': 0.0029521713237391596,\n          '符合': 0.0040464492453719135,\n          '第一步': 0.009928113005384251,\n          '第三世界': 0.002988833404107571,\n          '粮食安全': 0.002453858952150458,\n          '精神': 0.002843028436942404,\n          '系于': 0.002530442326469848,\n          '紧密': 0.004694596258275786,\n          '繁荣': 0.0017228125438853578,\n          '纠纷': 0.00227858331271114,\n          '纷争': 0.0017281617664789638,\n          '组合': 0.0025795136850728876,\n          '组织': 0.0017258106204649894,\n          '终究': 0.0029521713237391596,\n          '终结': 0.0017281617664789638,\n          '经历': 0.007858583358744781,\n          '经济': 0.004545674021771961,\n          '经济体': 0.002453858952150458,\n          '经贸': 0.003090950422498866,\n          '经验': 0.0034563235329579277,\n          '结伴': 0.002530442326469848,\n          '结合': 0.003090950422498866,\n          '结束': 0.0017281617664789638,\n          '结盟': 0.0025795136850728876,\n          '绝不': 0.0017281617664789638,\n          '绝不会': 0.0017281617664789638,\n          '绝不允许': 0.0017281617664789638,\n          '统筹': 0.002530442326469848,\n          '继续': 0.0,\n          '继续加强': 0.003350766864219059,\n          '维护': 0.0057905362539390805,\n          '维护和平': 0.0075514489544135435,\n          '缓和': 0.014250231157190537,\n          '缩小': 0.00319236142245591,\n          '网络安全': 0.003208857340464049,\n          '美丽': 0.002530442326469848,\n          '美好': 0.00227858331271114,\n          '美好世界': 0.002453858952150458,\n          '美好未来': 0.002530442326469848,\n          '美好理想': 0.002347298129137893,\n          '美苏': 0.009928113005384251,\n          '联合国': 0.0021839570086339944,\n          '联系': 0.002876374750097487,\n          '联通': 0.002530442326469848,\n          '背景': 0.009928113005384251,\n          '能力': 0.003090950422498866,\n          '能够': 0.005060884652939696,\n          '能源': 0.002453858952150458,\n          '自主': 0.005282905081079306,\n          '自我': 0.002530442326469848,\n          '自由化': 0.00319236142245591,\n          '自由贸易区': 0.002530442326469848,\n          '致力于': 0.0041511671706441575,\n          '良好': 0.00477346431956335,\n          '艰难': 0.009928113005384251,\n          '苦果': 0.002530442326469848,\n          '范围': 0.0025795136850728876,\n          '营造': 0.002347298129137893,\n          '蔓延': 0.002530442326469848,\n          '融通': 0.002530442326469848,\n          '行不通': 0.0017281617664789638,\n          '行为': 0.0017281617664789638,\n          '表现': 0.0028574304685100044,\n          '表示': 0.009928113005384251,\n          '被压迫': 0.0017281617664789638,\n          '裁军': 0.00972938217276734,\n          '裁减': 0.007504225923219617,\n          '西方': 0.0017281617664789638,\n          '要': 0.01332448342751596,\n          '要求': 0.0025795136850728876,\n          '观': 0.002530442326469848,\n          '观察员': 0.0017281617664789638,\n          '规则': 0.002347298129137893,\n          '觉醒': 0.0017281617664789638,\n          '解决': 0.002034057010977367,\n          '解决不了': 0.00227858331271114,\n          '计较': 0.0028574304685100044,\n          '许多': 0.0038509838849157645,\n          '设施': 0.002530442326469848,\n          '诉诸武力': 0.0026797327827160133,\n          '说到底': 0.0017281617664789638,\n          '诸多': 0.002347298129137893,\n          '调整': 0.0031160420331218077,\n          '谈': 0.0017281617664789638,\n          '谈判': 0.00227858331271114,\n          '谋': 0.002530442326469848,\n          '谋发展': 0.002347298129137893,\n          '谋求': 0.00797142455569086,\n          '谴责': 0.0017281617664789638,\n          '负责': 0.003208857340464049,\n          '贡献': 0.00437073929121175,\n          '贫富': 0.003333175926714219,\n          '贫富差距': 0.00227858331271114,\n          '贫富悬殊': 0.0028574304685100044,\n          '贫穷': 0.002453858952150458,\n          '贫穷落后': 0.0017281617664789638,\n          '贯彻': 0.002347298129137893,\n          '贸易': 0.004294179186288424,\n          '贸易往来': 0.00227858331271114,\n          '资源': 0.002453858952150458,\n          '资金': 0.002530442326469848,\n          '赖以生存': 0.0031402542484727054,\n          '赞成': 0.0017281617664789638,\n          '赢': 0.008555012059421767,\n          '走': 0.00319236142245591,\n          '起来': 0.00201708211579639,\n          '超越': 0.006354177309955859,\n          '趋利避害': 0.0028574304685100044,\n          '趋势': 0.003980985465450901,\n          '趋向': 0.00227858331271114,\n          '较长': 0.0029521713237391596,\n          '边界': 0.0028574304685100044,\n          '达成': 0.019856226010768502,\n          '过程': 0.007504225923219617,\n          '迈出': 0.009928113005384251,\n          '迈进': 0.0028574304685100044,\n          '这是': 0.002978109225552787,\n          '这种': 0.009325518919043808,\n          '进一步': 0.005246287739064597,\n          '进步': 0.0035212501056193224,\n          '进步事业': 0.002530442326469848,\n          '进程': 0.0017281617664789638,\n          '进行': 0.00805188922963065,\n          '远': 0.009928113005384251,\n          '追求': 0.003208857340464049,\n          '退回': 0.002530442326469848,\n          '选择': 0.0019605417706246055,\n          '通行': 0.002347298129137893,\n          '造成': 0.0028574304685100044,\n          '道路': 0.001925643311367684,\n          '遥远': 0.002530442326469848,\n          '遭': 0.0017281617664789638,\n          '遭到': 0.0017281617664789638,\n          '遭受': 0.00227858331271114,\n          '遭遇': 0.0017281617664789638,\n          '遵循': 0.003090950422498866,\n          '避免': 0.0025795136850728876,\n          '邓小平': 0.00227858331271114,\n          '邻': 0.002930218533098012,\n          '邻国': 0.00227858331271114,\n          '酿成': 0.0017281617664789638,\n          '重大': 0.002846454603494853,\n          '重大成就': 0.0017281617664789638,\n          '重新': 0.0017281617664789638,\n          '重视': 0.0034563235329579277,\n          '金砖': 0.002453858952150458,\n          '金融体制': 0.002347298129137893,\n          '金融危机': 0.002453858952150458,\n          '长': 0.00227858331271114,\n          '长期': 0.00467929731175824,\n          '长远利益': 0.00227858331271114,\n          '问题': 0.007853419668033388,\n          '间': 0.0017281617664789638,\n          '防御性': 0.0031402542484727054,\n          '防范': 0.0028574304685100044,\n          '阻挡': 0.003350766864219059,\n          '隔阂': 0.002530442326469848,\n          '障碍': 0.0034563235329579277,\n          '难题': 0.002347298129137893,\n          '集团': 0.0066259629304448,\n          '需要': 0.0025795136850728876,\n          '霸权主义': 0.0043329850456435915,\n          '非传统': 0.004469904300056225,\n          '面临': 0.004335249458581252,\n          '面对': 0.0017281617664789638,\n          '革命': 0.003090950422498866,\n          '顺应': 0.0028574304685100044,\n          '预见': 0.0028574304685100044,\n          '领土': 0.002988833404107571,\n          '领土完整': 0.0017281617664789638,\n          '领域': 0.0033048200764659945,\n          '频繁': 0.002453858952150458,\n          '颠覆': 0.0030467123175441308,\n          '高举': 0.00319236142245591,\n          '高涨': 0.007858583358744781})"
      ]
     },
     "execution_count": 34,
     "metadata": {},
     "output_type": "execute_result"
    }
   ],
   "source": [
    "jieba.DICTIONARY"
   ]
  },
  {
   "cell_type": "code",
   "execution_count": null,
   "metadata": {},
   "outputs": [],
   "source": [
    ""
   ]
  }
 ],
 "metadata": {
  "kernelspec": {
   "display_name": "Python 2",
   "language": "python",
   "name": "python2"
  },
  "language_info": {
   "codemirror_mode": {
    "name": "ipython",
    "version": 2.0
   },
   "file_extension": ".py",
   "mimetype": "text/x-python",
   "name": "python",
   "nbconvert_exporter": "python",
   "pygments_lexer": "ipython2",
   "version": "2.7.6"
  }
 },
 "nbformat": 4,
 "nbformat_minor": 0
}