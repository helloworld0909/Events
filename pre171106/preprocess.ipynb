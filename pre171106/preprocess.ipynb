{
 "cells": [
  {
   "cell_type": "code",
   "execution_count": 2,
   "metadata": {
    "collapsed": true
   },
   "outputs": [],
   "source": [
    "import json\n",
    "import re"
   ]
  },
  {
   "cell_type": "code",
   "execution_count": 3,
   "metadata": {},
   "outputs": [],
   "source": [
    "jsonObj = {}"
   ]
  },
  {
   "cell_type": "code",
   "execution_count": 4,
   "metadata": {},
   "outputs": [],
   "source": [
    "filenameList = ['data/{}.txt'.format(idx) for idx in range(13, 20)]"
   ]
  },
  {
   "cell_type": "code",
   "execution_count": 5,
   "metadata": {
    "collapsed": true
   },
   "outputs": [],
   "source": [
    "for filename in filenameList:\n",
    "    with open(filename, 'r', encoding='utf-8') as inputFile:\n",
    "        lines = inputFile.readlines()\n",
    "        title = ''.join(lines[:2])\n",
    "        date = re.search('（(.+)）', lines[2]).group(1)\n",
    "        text = ''.join(lines[3:])\n",
    "        idx = re.search(r'data/(.+).txt', filename).group(1)\n",
    "        jsonObj[idx] = {\n",
    "            'title': title,\n",
    "            'date': date,\n",
    "            'text': text\n",
    "        }"
   ]
  },
  {
   "cell_type": "code",
   "execution_count": 6,
   "metadata": {},
   "outputs": [],
   "source": [
    "with open('cpc_reports.json', 'w', encoding='utf-8') as jsonFile:\n",
    "    json.dump(jsonObj, jsonFile, ensure_ascii=False)"
   ]
  },
  {
   "cell_type": "code",
   "execution_count": null,
   "metadata": {},
   "outputs": [],
   "source": [
    ""
   ]
  }
 ],
 "metadata": {
  "kernelspec": {
   "display_name": "Python 2",
   "language": "python",
   "name": "python2"
  },
  "language_info": {
   "codemirror_mode": {
    "name": "ipython",
    "version": 2.0
   },
   "file_extension": ".py",
   "mimetype": "text/x-python",
   "name": "python",
   "nbconvert_exporter": "python",
   "pygments_lexer": "ipython2",
   "version": "2.7.6"
  }
 },
 "nbformat": 4,
 "nbformat_minor": 0
}